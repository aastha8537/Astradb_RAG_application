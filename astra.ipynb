{
  "nbformat": 4,
  "nbformat_minor": 0,
  "metadata": {
    "colab": {
      "provenance": []
    },
    "kernelspec": {
      "name": "python3",
      "display_name": "Python 3"
    },
    "language_info": {
      "name": "python"
    }
  },
  "cells": [
    {
      "cell_type": "code",
      "execution_count": null,
      "metadata": {
        "id": "0TzXZ0vpy8JX"
      },
      "outputs": [],
      "source": []
    },
    {
      "cell_type": "code",
      "source": [
        "!pip install -q cassio datasets langchain openai tiktoken\n",
        "!pip install -U langchain-community\n"
      ],
      "metadata": {
        "colab": {
          "base_uri": "https://localhost:8080/"
        },
        "id": "NyolnN7VzEyV",
        "outputId": "d6e5b201-7651-4eab-af69-7b49f48b80b4"
      },
      "execution_count": null,
      "outputs": [
        {
          "output_type": "stream",
          "name": "stdout",
          "text": [
            "Collecting langchain-community\n",
            "  Downloading langchain_community-0.3.24-py3-none-any.whl.metadata (2.5 kB)\n",
            "Requirement already satisfied: langchain-core<1.0.0,>=0.3.59 in /usr/local/lib/python3.11/dist-packages (from langchain-community) (0.3.59)\n",
            "Requirement already satisfied: langchain<1.0.0,>=0.3.25 in /usr/local/lib/python3.11/dist-packages (from langchain-community) (0.3.25)\n",
            "Requirement already satisfied: SQLAlchemy<3,>=1.4 in /usr/local/lib/python3.11/dist-packages (from langchain-community) (2.0.40)\n",
            "Requirement already satisfied: requests<3,>=2 in /usr/local/lib/python3.11/dist-packages (from langchain-community) (2.32.3)\n",
            "Requirement already satisfied: PyYAML>=5.3 in /usr/local/lib/python3.11/dist-packages (from langchain-community) (6.0.2)\n",
            "Requirement already satisfied: aiohttp<4.0.0,>=3.8.3 in /usr/local/lib/python3.11/dist-packages (from langchain-community) (3.11.15)\n",
            "Requirement already satisfied: tenacity!=8.4.0,<10,>=8.1.0 in /usr/local/lib/python3.11/dist-packages (from langchain-community) (9.1.2)\n",
            "Collecting dataclasses-json<0.7,>=0.5.7 (from langchain-community)\n",
            "  Downloading dataclasses_json-0.6.7-py3-none-any.whl.metadata (25 kB)\n",
            "Collecting pydantic-settings<3.0.0,>=2.4.0 (from langchain-community)\n",
            "  Downloading pydantic_settings-2.9.1-py3-none-any.whl.metadata (3.8 kB)\n",
            "Requirement already satisfied: langsmith<0.4,>=0.1.125 in /usr/local/lib/python3.11/dist-packages (from langchain-community) (0.3.42)\n",
            "Collecting httpx-sse<1.0.0,>=0.4.0 (from langchain-community)\n",
            "  Downloading httpx_sse-0.4.0-py3-none-any.whl.metadata (9.0 kB)\n",
            "Requirement already satisfied: numpy>=1.26.2 in /usr/local/lib/python3.11/dist-packages (from langchain-community) (2.0.2)\n",
            "Requirement already satisfied: aiohappyeyeballs>=2.3.0 in /usr/local/lib/python3.11/dist-packages (from aiohttp<4.0.0,>=3.8.3->langchain-community) (2.6.1)\n",
            "Requirement already satisfied: aiosignal>=1.1.2 in /usr/local/lib/python3.11/dist-packages (from aiohttp<4.0.0,>=3.8.3->langchain-community) (1.3.2)\n",
            "Requirement already satisfied: attrs>=17.3.0 in /usr/local/lib/python3.11/dist-packages (from aiohttp<4.0.0,>=3.8.3->langchain-community) (25.3.0)\n",
            "Requirement already satisfied: frozenlist>=1.1.1 in /usr/local/lib/python3.11/dist-packages (from aiohttp<4.0.0,>=3.8.3->langchain-community) (1.6.0)\n",
            "Requirement already satisfied: multidict<7.0,>=4.5 in /usr/local/lib/python3.11/dist-packages (from aiohttp<4.0.0,>=3.8.3->langchain-community) (6.4.3)\n",
            "Requirement already satisfied: propcache>=0.2.0 in /usr/local/lib/python3.11/dist-packages (from aiohttp<4.0.0,>=3.8.3->langchain-community) (0.3.1)\n",
            "Requirement already satisfied: yarl<2.0,>=1.17.0 in /usr/local/lib/python3.11/dist-packages (from aiohttp<4.0.0,>=3.8.3->langchain-community) (1.20.0)\n",
            "Collecting marshmallow<4.0.0,>=3.18.0 (from dataclasses-json<0.7,>=0.5.7->langchain-community)\n",
            "  Downloading marshmallow-3.26.1-py3-none-any.whl.metadata (7.3 kB)\n",
            "Collecting typing-inspect<1,>=0.4.0 (from dataclasses-json<0.7,>=0.5.7->langchain-community)\n",
            "  Downloading typing_inspect-0.9.0-py3-none-any.whl.metadata (1.5 kB)\n",
            "Requirement already satisfied: langchain-text-splitters<1.0.0,>=0.3.8 in /usr/local/lib/python3.11/dist-packages (from langchain<1.0.0,>=0.3.25->langchain-community) (0.3.8)\n",
            "Requirement already satisfied: pydantic<3.0.0,>=2.7.4 in /usr/local/lib/python3.11/dist-packages (from langchain<1.0.0,>=0.3.25->langchain-community) (2.11.4)\n",
            "Requirement already satisfied: jsonpatch<2.0,>=1.33 in /usr/local/lib/python3.11/dist-packages (from langchain-core<1.0.0,>=0.3.59->langchain-community) (1.33)\n",
            "Requirement already satisfied: packaging<25,>=23.2 in /usr/local/lib/python3.11/dist-packages (from langchain-core<1.0.0,>=0.3.59->langchain-community) (24.2)\n",
            "Requirement already satisfied: typing-extensions>=4.7 in /usr/local/lib/python3.11/dist-packages (from langchain-core<1.0.0,>=0.3.59->langchain-community) (4.13.2)\n",
            "Requirement already satisfied: httpx<1,>=0.23.0 in /usr/local/lib/python3.11/dist-packages (from langsmith<0.4,>=0.1.125->langchain-community) (0.28.1)\n",
            "Requirement already satisfied: orjson<4.0.0,>=3.9.14 in /usr/local/lib/python3.11/dist-packages (from langsmith<0.4,>=0.1.125->langchain-community) (3.10.18)\n",
            "Requirement already satisfied: requests-toolbelt<2.0.0,>=1.0.0 in /usr/local/lib/python3.11/dist-packages (from langsmith<0.4,>=0.1.125->langchain-community) (1.0.0)\n",
            "Requirement already satisfied: zstandard<0.24.0,>=0.23.0 in /usr/local/lib/python3.11/dist-packages (from langsmith<0.4,>=0.1.125->langchain-community) (0.23.0)\n",
            "Collecting python-dotenv>=0.21.0 (from pydantic-settings<3.0.0,>=2.4.0->langchain-community)\n",
            "  Downloading python_dotenv-1.1.0-py3-none-any.whl.metadata (24 kB)\n",
            "Requirement already satisfied: typing-inspection>=0.4.0 in /usr/local/lib/python3.11/dist-packages (from pydantic-settings<3.0.0,>=2.4.0->langchain-community) (0.4.0)\n",
            "Requirement already satisfied: charset-normalizer<4,>=2 in /usr/local/lib/python3.11/dist-packages (from requests<3,>=2->langchain-community) (3.4.2)\n",
            "Requirement already satisfied: idna<4,>=2.5 in /usr/local/lib/python3.11/dist-packages (from requests<3,>=2->langchain-community) (3.10)\n",
            "Requirement already satisfied: urllib3<3,>=1.21.1 in /usr/local/lib/python3.11/dist-packages (from requests<3,>=2->langchain-community) (2.4.0)\n",
            "Requirement already satisfied: certifi>=2017.4.17 in /usr/local/lib/python3.11/dist-packages (from requests<3,>=2->langchain-community) (2025.4.26)\n",
            "Requirement already satisfied: greenlet>=1 in /usr/local/lib/python3.11/dist-packages (from SQLAlchemy<3,>=1.4->langchain-community) (3.2.2)\n",
            "Requirement already satisfied: anyio in /usr/local/lib/python3.11/dist-packages (from httpx<1,>=0.23.0->langsmith<0.4,>=0.1.125->langchain-community) (4.9.0)\n",
            "Requirement already satisfied: httpcore==1.* in /usr/local/lib/python3.11/dist-packages (from httpx<1,>=0.23.0->langsmith<0.4,>=0.1.125->langchain-community) (1.0.9)\n",
            "Requirement already satisfied: h11>=0.16 in /usr/local/lib/python3.11/dist-packages (from httpcore==1.*->httpx<1,>=0.23.0->langsmith<0.4,>=0.1.125->langchain-community) (0.16.0)\n",
            "Requirement already satisfied: jsonpointer>=1.9 in /usr/local/lib/python3.11/dist-packages (from jsonpatch<2.0,>=1.33->langchain-core<1.0.0,>=0.3.59->langchain-community) (3.0.0)\n",
            "Requirement already satisfied: annotated-types>=0.6.0 in /usr/local/lib/python3.11/dist-packages (from pydantic<3.0.0,>=2.7.4->langchain<1.0.0,>=0.3.25->langchain-community) (0.7.0)\n",
            "Requirement already satisfied: pydantic-core==2.33.2 in /usr/local/lib/python3.11/dist-packages (from pydantic<3.0.0,>=2.7.4->langchain<1.0.0,>=0.3.25->langchain-community) (2.33.2)\n",
            "Collecting mypy-extensions>=0.3.0 (from typing-inspect<1,>=0.4.0->dataclasses-json<0.7,>=0.5.7->langchain-community)\n",
            "  Downloading mypy_extensions-1.1.0-py3-none-any.whl.metadata (1.1 kB)\n",
            "Requirement already satisfied: sniffio>=1.1 in /usr/local/lib/python3.11/dist-packages (from anyio->httpx<1,>=0.23.0->langsmith<0.4,>=0.1.125->langchain-community) (1.3.1)\n",
            "Downloading langchain_community-0.3.24-py3-none-any.whl (2.5 MB)\n",
            "\u001b[2K   \u001b[90m━━━━━━━━━━━━━━━━━━━━━━━━━━━━━━━━━━━━━━━━\u001b[0m \u001b[32m2.5/2.5 MB\u001b[0m \u001b[31m33.6 MB/s\u001b[0m eta \u001b[36m0:00:00\u001b[0m\n",
            "\u001b[?25hDownloading dataclasses_json-0.6.7-py3-none-any.whl (28 kB)\n",
            "Downloading httpx_sse-0.4.0-py3-none-any.whl (7.8 kB)\n",
            "Downloading pydantic_settings-2.9.1-py3-none-any.whl (44 kB)\n",
            "\u001b[2K   \u001b[90m━━━━━━━━━━━━━━━━━━━━━━━━━━━━━━━━━━━━━━━━\u001b[0m \u001b[32m44.4/44.4 kB\u001b[0m \u001b[31m2.6 MB/s\u001b[0m eta \u001b[36m0:00:00\u001b[0m\n",
            "\u001b[?25hDownloading marshmallow-3.26.1-py3-none-any.whl (50 kB)\n",
            "\u001b[2K   \u001b[90m━━━━━━━━━━━━━━━━━━━━━━━━━━━━━━━━━━━━━━━━\u001b[0m \u001b[32m50.9/50.9 kB\u001b[0m \u001b[31m3.8 MB/s\u001b[0m eta \u001b[36m0:00:00\u001b[0m\n",
            "\u001b[?25hDownloading python_dotenv-1.1.0-py3-none-any.whl (20 kB)\n",
            "Downloading typing_inspect-0.9.0-py3-none-any.whl (8.8 kB)\n",
            "Downloading mypy_extensions-1.1.0-py3-none-any.whl (5.0 kB)\n",
            "Installing collected packages: python-dotenv, mypy-extensions, marshmallow, httpx-sse, typing-inspect, pydantic-settings, dataclasses-json, langchain-community\n",
            "Successfully installed dataclasses-json-0.6.7 httpx-sse-0.4.0 langchain-community-0.3.24 marshmallow-3.26.1 mypy-extensions-1.1.0 pydantic-settings-2.9.1 python-dotenv-1.1.0 typing-inspect-0.9.0\n"
          ]
        }
      ]
    },
    {
      "cell_type": "code",
      "source": [
        "from langchain.vectorstores.cassandra import Cassandra\n",
        "from langchain.indexes.vectorstore import VectorStoreIndexWrapper\n",
        "from langchain.llms import OpenAI\n",
        "from langchain.embeddings import OpenAIEmbeddings"
      ],
      "metadata": {
        "id": "b0t_7qaCzIa-"
      },
      "execution_count": null,
      "outputs": []
    },
    {
      "cell_type": "code",
      "source": [
        "from datasets import load_dataset\n",
        "import cassio"
      ],
      "metadata": {
        "id": "DhnLSVTQzTCP"
      },
      "execution_count": null,
      "outputs": []
    },
    {
      "cell_type": "code",
      "source": [
        "!pip install PyPDF2"
      ],
      "metadata": {
        "colab": {
          "base_uri": "https://localhost:8080/"
        },
        "id": "xEjhqHq6zu2h",
        "outputId": "785b7b5a-b0e1-41ed-f8d5-248c06bccc5e"
      },
      "execution_count": null,
      "outputs": [
        {
          "output_type": "stream",
          "name": "stdout",
          "text": [
            "Collecting PyPDF2\n",
            "  Downloading pypdf2-3.0.1-py3-none-any.whl.metadata (6.8 kB)\n",
            "Downloading pypdf2-3.0.1-py3-none-any.whl (232 kB)\n",
            "\u001b[2K   \u001b[90m━━━━━━━━━━━━━━━━━━━━━━━━━━━━━━━━━━━━━━━━\u001b[0m \u001b[32m232.6/232.6 kB\u001b[0m \u001b[31m3.9 MB/s\u001b[0m eta \u001b[36m0:00:00\u001b[0m\n",
            "\u001b[?25hInstalling collected packages: PyPDF2\n",
            "Successfully installed PyPDF2-3.0.1\n"
          ]
        }
      ]
    },
    {
      "cell_type": "code",
      "source": [
        "from PyPDF2 import PdfReader"
      ],
      "metadata": {
        "id": "eJ9_dCgIz9Ek"
      },
      "execution_count": null,
      "outputs": []
    },
    {
      "cell_type": "code",
      "source": [
        "ASTRA_DB_APPLICATION_TOKEN=\"please add your db+application_token\"\n",
        "ASTRA_DB_ID=\"please add you db id from datastak\"\n",
        "OPENAI_API_KEY=\"please add your openai api key\""
      ],
      "metadata": {
        "id": "EWMHr33x250b"
      },
      "execution_count": null,
      "outputs": []
    },
    {
      "cell_type": "code",
      "source": [
        "pdfreader=PdfReader(\"bugdet_speech.pdf\")\n",
        "raw_text = \" \"\n",
        "for i,page in enumerate(pdfreader.pages):\n",
        "  content=page.extract_text()\n",
        "  if content:\n",
        "    raw_text+=content"
      ],
      "metadata": {
        "id": "uu8z88gP3sWR"
      },
      "execution_count": null,
      "outputs": []
    },
    {
      "cell_type": "code",
      "source": [
        "raw_text"
      ],
      "metadata": {
        "colab": {
          "base_uri": "https://localhost:8080/",
          "height": 227
        },
        "id": "UCxbSWzR5osK",
        "outputId": "67866df0-85e1-473f-f118-ccccf03186f1"
      },
      "execution_count": null,
      "outputs": [
        {
          "output_type": "execute_result",
          "data": {
            "text/plain": [
              "\" India's Union Budget is an annual financial statement presented by the Finance Minister. It outlines\\nthe government's revenue and expenditure for the upcoming fiscal year. The budget includes\\nallocations to various sectors like education, healthcare, infrastructure, and defense. It also\\nproposes tax reforms, subsidy plans, and economic policies to drive national growth. This financial\\nroadmap helps in planning the nations developmental priorities and reflects the government's vision.\\nOne of the major highlights of the budget is its focus on sustainable and inclusive growth. The\\ngovernment often proposes new schemes targeting agriculture, rural development, and employment\\ngeneration. Infrastructure development is emphasized through investments in roads, railways, and\\nurban development projects. The budget also outlines steps for fiscal consolidation, aiming to\\nreduce the fiscal deficit and ensure macroeconomic stability.\\nIn recent years, the digital economy has been another major focus. Budget announcements often\\ninclude policies to boost digital payments, fintech innovation, and the tech startup ecosystem.\\nSupport for MSMEs (Micro, Small, and Medium Enterprises) is also a recurring feature, offering\\ncredit schemes and tax incentives to promote entrepreneurship.\\nHealth and education continue to be critical sectors, with budgets allocated for building better\\ninfrastructure, increasing teacher and doctor training programs, and improving service delivery at the\\ngrassroots level. Defense spending, welfare schemes for women and children, and initiatives to\\nimprove ease of doing business also find place in the budget.\\nThe Union Budget plays a key role in shaping the country's economy and influencing market trends.\\nIt reflects the governments short- and long-term priorities and sets the tone for policy-making for the\\nyear ahead. Public and industry reactions to the budget are closely watched, and they significantly\\naffect investor confidence and economic sentiment.India's Union Budget is an annual financialstatement presented by the Finance Minister. It outlines the government's revenue and expenditure\\nfor the upcoming fiscal year. The budget includes allocations to various sectors like education,\\nhealthcare, infrastructure, and defense. It also proposes tax reforms, subsidy plans, and economic\\npolicies to drive national growth. This financial roadmap helps in planning the nations developmental\\npriorities and reflects the government's vision.\\nOne of the major highlights of the budget is its focus on sustainable and inclusive growth. The\\ngovernment often proposes new schemes targeting agriculture, rural development, and employment\\ngeneration. Infrastructure development is emphasized through investments in roads, railways, and\\nurban development projects. The budget also outlines steps for fiscal consolidation, aiming to\\nreduce the fiscal deficit and ensure macroeconomic stability.\\nIn recent years, the digital economy has been another major focus. Budget announcements often\\ninclude policies to boost digital payments, fintech innovation, and the tech startup ecosystem.\\nSupport for MSMEs (Micro, Small, and Medium Enterprises) is also a recurring feature, offering\\ncredit schemes and tax incentives to promote entrepreneurship.\\nHealth and education continue to be critical sectors, with budgets allocated for building better\\ninfrastructure, increasing teacher and doctor training programs, and improving service delivery at the\\ngrassroots level. Defense spending, welfare schemes for women and children, and initiatives to\\nimprove ease of doing business also find place in the budget.\\nThe Union Budget plays a key role in shaping the country's economy and influencing market trends.\\nIt reflects the governments short- and long-term priorities and sets the tone for policy-making for the\\nyear ahead. Public and industry reactions to the budget are closely watched, and they significantly\\naffect investor confidence and economic sentiment.\""
            ],
            "application/vnd.google.colaboratory.intrinsic+json": {
              "type": "string"
            }
          },
          "metadata": {},
          "execution_count": 11
        }
      ]
    },
    {
      "cell_type": "code",
      "source": [
        "cassio.init(token=ASTRA_DB_APPLICATION_TOKEN,database_id=ASTRA_DB_ID)"
      ],
      "metadata": {
        "id": "oq0ieBMz5sVR"
      },
      "execution_count": null,
      "outputs": []
    },
    {
      "cell_type": "code",
      "source": [
        "llm= OpenAI(openai_api_key=OPENAI_API_KEY,temprature=0)\n",
        "embeddings=OpenAIEmbeddings(openai_api_key=OPENAI_API_KEY)"
      ],
      "metadata": {
        "colab": {
          "base_uri": "https://localhost:8080/"
        },
        "id": "Uu8vVZ9a6YPl",
        "outputId": "e24dd132-5752-436a-f314-6aac4746c141"
      },
      "execution_count": null,
      "outputs": [
        {
          "output_type": "stream",
          "name": "stderr",
          "text": [
            "<ipython-input-18-43aeca7be4f0>:1: LangChainDeprecationWarning: The class `OpenAI` was deprecated in LangChain 0.0.10 and will be removed in 1.0. An updated version of the class exists in the :class:`~langchain-openai package and should be used instead. To use it run `pip install -U :class:`~langchain-openai` and import as `from :class:`~langchain_openai import OpenAI``.\n",
            "  llm= OpenAI(openai_api_key=OPENAI_API_KEY)\n",
            "<ipython-input-18-43aeca7be4f0>:2: LangChainDeprecationWarning: The class `OpenAIEmbeddings` was deprecated in LangChain 0.0.9 and will be removed in 1.0. An updated version of the class exists in the :class:`~langchain-openai package and should be used instead. To use it run `pip install -U :class:`~langchain-openai` and import as `from :class:`~langchain_openai import OpenAIEmbeddings``.\n",
            "  embeddings=OpenAIEmbeddings(openai_api_key=OPENAI_API_KEY)\n"
          ]
        }
      ]
    },
    {
      "cell_type": "code",
      "source": [
        "astra_vector_store=Cassandra(\n",
        "    embedding=embeddings,\n",
        "    table_name=\"qa_mini_demo\",\n",
        "    session=None,\n",
        "    keyspace=None,\n",
        "\n",
        ")"
      ],
      "metadata": {
        "id": "z31xbJdA7OET"
      },
      "execution_count": null,
      "outputs": []
    },
    {
      "cell_type": "code",
      "source": [
        "from langchain.text_splitter import CharacterTextSplitter\n",
        "text_splitter=CharacterTextSplitter(\n",
        "    separator=\"\\n\",\n",
        "    chunk_size=400,\n",
        "    chunk_overlap=100,\n",
        "    length_function=len,\n",
        "\n",
        ")\n",
        "texts=text_splitter.split_text(raw_text)\n",
        "texts[:50]"
      ],
      "metadata": {
        "colab": {
          "base_uri": "https://localhost:8080/"
        },
        "id": "Rjzm_hNg9Fym",
        "outputId": "7b345c32-1d73-452b-a3b8-4ef3b431f183"
      },
      "execution_count": null,
      "outputs": [
        {
          "output_type": "execute_result",
          "data": {
            "text/plain": [
              "[\"India's Union Budget is an annual financial statement presented by the Finance Minister. It outlines\\nthe government's revenue and expenditure for the upcoming fiscal year. The budget includes\\nallocations to various sectors like education, healthcare, infrastructure, and defense. It also\\nproposes tax reforms, subsidy plans, and economic policies to drive national growth. This financial\",\n",
              " \"proposes tax reforms, subsidy plans, and economic policies to drive national growth. This financial\\nroadmap helps in planning the nations developmental priorities and reflects the government's vision.\\nOne of the major highlights of the budget is its focus on sustainable and inclusive growth. The\\ngovernment often proposes new schemes targeting agriculture, rural development, and employment\",\n",
              " 'government often proposes new schemes targeting agriculture, rural development, and employment\\ngeneration. Infrastructure development is emphasized through investments in roads, railways, and\\nurban development projects. The budget also outlines steps for fiscal consolidation, aiming to\\nreduce the fiscal deficit and ensure macroeconomic stability.',\n",
              " 'reduce the fiscal deficit and ensure macroeconomic stability.\\nIn recent years, the digital economy has been another major focus. Budget announcements often\\ninclude policies to boost digital payments, fintech innovation, and the tech startup ecosystem.\\nSupport for MSMEs (Micro, Small, and Medium Enterprises) is also a recurring feature, offering',\n",
              " 'Support for MSMEs (Micro, Small, and Medium Enterprises) is also a recurring feature, offering\\ncredit schemes and tax incentives to promote entrepreneurship.\\nHealth and education continue to be critical sectors, with budgets allocated for building better\\ninfrastructure, increasing teacher and doctor training programs, and improving service delivery at the',\n",
              " \"grassroots level. Defense spending, welfare schemes for women and children, and initiatives to\\nimprove ease of doing business also find place in the budget.\\nThe Union Budget plays a key role in shaping the country's economy and influencing market trends.\\nIt reflects the governments short- and long-term priorities and sets the tone for policy-making for the\",\n",
              " \"year ahead. Public and industry reactions to the budget are closely watched, and they significantly\\naffect investor confidence and economic sentiment.India's Union Budget is an annual financialstatement presented by the Finance Minister. It outlines the government's revenue and expenditure\\nfor the upcoming fiscal year. The budget includes allocations to various sectors like education,\",\n",
              " \"for the upcoming fiscal year. The budget includes allocations to various sectors like education,\\nhealthcare, infrastructure, and defense. It also proposes tax reforms, subsidy plans, and economic\\npolicies to drive national growth. This financial roadmap helps in planning the nations developmental\\npriorities and reflects the government's vision.\",\n",
              " \"priorities and reflects the government's vision.\\nOne of the major highlights of the budget is its focus on sustainable and inclusive growth. The\\ngovernment often proposes new schemes targeting agriculture, rural development, and employment\\ngeneration. Infrastructure development is emphasized through investments in roads, railways, and\",\n",
              " 'generation. Infrastructure development is emphasized through investments in roads, railways, and\\nurban development projects. The budget also outlines steps for fiscal consolidation, aiming to\\nreduce the fiscal deficit and ensure macroeconomic stability.\\nIn recent years, the digital economy has been another major focus. Budget announcements often',\n",
              " 'In recent years, the digital economy has been another major focus. Budget announcements often\\ninclude policies to boost digital payments, fintech innovation, and the tech startup ecosystem.\\nSupport for MSMEs (Micro, Small, and Medium Enterprises) is also a recurring feature, offering\\ncredit schemes and tax incentives to promote entrepreneurship.',\n",
              " 'credit schemes and tax incentives to promote entrepreneurship.\\nHealth and education continue to be critical sectors, with budgets allocated for building better\\ninfrastructure, increasing teacher and doctor training programs, and improving service delivery at the\\ngrassroots level. Defense spending, welfare schemes for women and children, and initiatives to',\n",
              " \"grassroots level. Defense spending, welfare schemes for women and children, and initiatives to\\nimprove ease of doing business also find place in the budget.\\nThe Union Budget plays a key role in shaping the country's economy and influencing market trends.\\nIt reflects the governments short- and long-term priorities and sets the tone for policy-making for the\",\n",
              " 'year ahead. Public and industry reactions to the budget are closely watched, and they significantly\\naffect investor confidence and economic sentiment.']"
            ]
          },
          "metadata": {},
          "execution_count": 20
        }
      ]
    },
    {
      "cell_type": "code",
      "source": [
        "astra_vector_store.add_texts(texts[:50])\n",
        "print(\"Inserted %i headlines\" % len(texts[:50]))\n",
        "astra_vector_index=VectorStoreIndexWrapper(vectorstore=astra_vector_store)"
      ],
      "metadata": {
        "colab": {
          "base_uri": "https://localhost:8080/"
        },
        "id": "ec_o-CnP98fJ",
        "outputId": "42ce0b9a-50bb-4d24-cc64-a3c8da1ac97a"
      },
      "execution_count": null,
      "outputs": [
        {
          "output_type": "stream",
          "name": "stdout",
          "text": [
            "Inserted 14 headlines\n"
          ]
        }
      ]
    },
    {
      "cell_type": "code",
      "source": [
        "first_question = True\n",
        "\n",
        "while True:\n",
        "    if first_question:\n",
        "        query_text = input(\"\\nEnter your question (or type 'quit' to exit): \").strip()\n",
        "    else:\n",
        "        query_text = input(\"\\nWhat's your next question (or type 'quit' to exit): \").strip()\n",
        "\n",
        "    if query_text.lower() == 'quit':\n",
        "        break\n",
        "\n",
        "    if query_text == \"\":\n",
        "        continue\n",
        "\n",
        "    first_question = False\n",
        "\n",
        "    print(f\"\\nQUESTION: \\n\\n{query_text}\")\n",
        "    answer = astra_vector_index.query(query_text, llm=llm).strip()\n",
        "\n",
        "    print(f\"\\nANSWER:\\n\\n{answer}\")\n",
        "\n",
        "    print(\"\\nFIRST DOCUMENTS By RELEVANCE:\")\n",
        "    for doc, score in astra_vector_store.similarity_search_with_score(query_text, k=4):\n",
        "        print(f\"[{score:.04f}] %s...\\n\" % (doc.page_content[:84]))"
      ],
      "metadata": {
        "colab": {
          "base_uri": "https://localhost:8080/"
        },
        "id": "NgGEAuHOCIoV",
        "outputId": "91f34cf4-4ffa-4f00-9096-6ef41f49dcce"
      },
      "execution_count": null,
      "outputs": [
        {
          "output_type": "stream",
          "name": "stdout",
          "text": [
            "\n",
            "Enter your question (or type 'quit' to exit): what is the current gdp?\n",
            "\n",
            "QUESTION: \n",
            "\n",
            "what is the current gdp?\n"
          ]
        },
        {
          "output_type": "stream",
          "name": "stderr",
          "text": [
            "WARNING:cassandra.protocol:Server warning: Top-K queries can only be run with consistency level ONE / LOCAL_ONE / NODE_LOCAL. Consistency level LOCAL_QUORUM was requested. Downgrading the consistency level to LOCAL_ONE.\n"
          ]
        },
        {
          "output_type": "stream",
          "name": "stdout",
          "text": [
            "\n",
            "ANSWER:\n",
            "\n",
            "I don't know.\n",
            "\n",
            "FIRST DOCUMENTS By RELEVANCE:\n"
          ]
        },
        {
          "output_type": "stream",
          "name": "stderr",
          "text": [
            "WARNING:cassandra.protocol:Server warning: Top-K queries can only be run with consistency level ONE / LOCAL_ONE / NODE_LOCAL. Consistency level LOCAL_QUORUM was requested. Downgrading the consistency level to LOCAL_ONE.\n"
          ]
        },
        {
          "output_type": "stream",
          "name": "stdout",
          "text": [
            "[0.8862] for the upcoming fiscal year. The budget includes allocations to various sectors lik...\n",
            "\n",
            "[0.8849] In recent years, the digital economy has been another major focus. Budget announceme...\n",
            "\n",
            "[0.8848] year ahead. Public and industry reactions to the budget are closely watched, and the...\n",
            "\n",
            "[0.8843] proposes tax reforms, subsidy plans, and economic policies to drive national growth....\n",
            "\n",
            "\n",
            "What's your next question (or type 'quit' to exit): what is the major budget\n",
            "\n",
            "QUESTION: \n",
            "\n",
            "what is the major budget\n"
          ]
        },
        {
          "output_type": "stream",
          "name": "stderr",
          "text": [
            "WARNING:cassandra.protocol:Server warning: Top-K queries can only be run with consistency level ONE / LOCAL_ONE / NODE_LOCAL. Consistency level LOCAL_QUORUM was requested. Downgrading the consistency level to LOCAL_ONE.\n"
          ]
        },
        {
          "output_type": "stream",
          "name": "stdout",
          "text": [
            "\n",
            "ANSWER:\n",
            "\n",
            "The major budget is an annual financial statement presented by the Finance Minister that outlines the government's revenue and expenditure for the upcoming fiscal year. It includes allocations to various sectors and proposes tax reforms, subsidy plans, and economic policies to drive national growth. Additionally, it helps in planning the nation's developmental priorities and reflects the government's vision.\n",
            "\n",
            "FIRST DOCUMENTS By RELEVANCE:\n"
          ]
        },
        {
          "output_type": "stream",
          "name": "stderr",
          "text": [
            "WARNING:cassandra.protocol:Server warning: Top-K queries can only be run with consistency level ONE / LOCAL_ONE / NODE_LOCAL. Consistency level LOCAL_QUORUM was requested. Downgrading the consistency level to LOCAL_ONE.\n"
          ]
        },
        {
          "output_type": "stream",
          "name": "stdout",
          "text": [
            "[0.9108] priorities and reflects the government's vision.\n",
            "One of the major highlights of the ...\n",
            "\n",
            "[0.9089] for the upcoming fiscal year. The budget includes allocations to various sectors lik...\n",
            "\n",
            "[0.9084] India's Union Budget is an annual financial statement presented by the Finance Minis...\n",
            "\n",
            "[0.9029] proposes tax reforms, subsidy plans, and economic policies to drive national growth....\n",
            "\n",
            "\n",
            "What's your next question (or type 'quit' to exit): what is the major budget focus on\n",
            "\n",
            "QUESTION: \n",
            "\n",
            "what is the major budget focus on\n"
          ]
        },
        {
          "output_type": "stream",
          "name": "stderr",
          "text": [
            "WARNING:cassandra.protocol:Server warning: Top-K queries can only be run with consistency level ONE / LOCAL_ONE / NODE_LOCAL. Consistency level LOCAL_QUORUM was requested. Downgrading the consistency level to LOCAL_ONE.\n"
          ]
        },
        {
          "output_type": "stream",
          "name": "stdout",
          "text": [
            "\n",
            "ANSWER:\n",
            "\n",
            "The major budget focus is on sustainable and inclusive growth, particularly through investments in agriculture, rural development, employment generation, infrastructure development, and the digital economy.\n",
            "\n",
            "FIRST DOCUMENTS By RELEVANCE:\n"
          ]
        },
        {
          "output_type": "stream",
          "name": "stderr",
          "text": [
            "WARNING:cassandra.protocol:Server warning: Top-K queries can only be run with consistency level ONE / LOCAL_ONE / NODE_LOCAL. Consistency level LOCAL_QUORUM was requested. Downgrading the consistency level to LOCAL_ONE.\n"
          ]
        },
        {
          "output_type": "stream",
          "name": "stdout",
          "text": [
            "[0.9331] priorities and reflects the government's vision.\n",
            "One of the major highlights of the ...\n",
            "\n",
            "[0.9299] generation. Infrastructure development is emphasized through investments in roads, r...\n",
            "\n",
            "[0.9232] for the upcoming fiscal year. The budget includes allocations to various sectors lik...\n",
            "\n",
            "[0.9187] credit schemes and tax incentives to promote entrepreneurship.\n",
            "Health and education ...\n",
            "\n"
          ]
        }
      ]
    },
    {
      "cell_type": "code",
      "source": [],
      "metadata": {
        "id": "sYPVXghoC52N"
      },
      "execution_count": null,
      "outputs": []
    }
  ]
}